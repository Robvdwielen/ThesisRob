{
 "cells": [
  {
   "cell_type": "code",
   "execution_count": 1,
   "metadata": {},
   "outputs": [
    {
     "name": "stdout",
     "output_type": "stream",
     "text": [
      "Requirement already satisfied: imdbpy in c:\\users\\systeembeheer\\anaconda3\\lib\\site-packages (2022.7.9)\n",
      "Requirement already satisfied: cinemagoer in c:\\users\\systeembeheer\\anaconda3\\lib\\site-packages (from imdbpy) (2023.2.11)\n",
      "Requirement already satisfied: SQLAlchemy in c:\\users\\systeembeheer\\anaconda3\\lib\\site-packages (from cinemagoer->imdbpy) (1.4.32)\n",
      "Requirement already satisfied: lxml in c:\\users\\systeembeheer\\anaconda3\\lib\\site-packages (from cinemagoer->imdbpy) (4.8.0)\n",
      "Requirement already satisfied: greenlet!=0.4.17 in c:\\users\\systeembeheer\\anaconda3\\lib\\site-packages (from SQLAlchemy->cinemagoer->imdbpy) (1.1.1)\n"
     ]
    }
   ],
   "source": [
    "!pip install imdbpy"
   ]
  },
  {
   "cell_type": "code",
   "execution_count": 41,
   "metadata": {},
   "outputs": [],
   "source": [
    "from imdb import IMDb"
   ]
  },
  {
   "cell_type": "code",
   "execution_count": 42,
   "metadata": {},
   "outputs": [],
   "source": [
    "ia = IMDb()"
   ]
  },
  {
   "cell_type": "code",
   "execution_count": 43,
   "metadata": {},
   "outputs": [
    {
     "data": {
      "text/plain": [
       "[{'name': 'Law & Order: Special Victims Unit',\n",
       "  'genre': 'Crime,Drama,Mystery,Thriller,',\n",
       "  'MPAA_rating': 'TV-14,TV-PG,'}]"
      ]
     },
     "execution_count": 43,
     "metadata": {},
     "output_type": "execute_result"
    }
   ],
   "source": [
    "def get_genres(name):\n",
    "    genres = []\n",
    "    genres_list = \"\"\n",
    "    MPAA_list = \"\"\n",
    "    search = ia.search_movie(name)\n",
    "    movie_name = search[0][\"title\"]\n",
    "    id = search[0].movieID\n",
    "    movie = ia.get_movie(id)\n",
    "    movie_2 = ia.get_movie(id, info='parents_guide')\n",
    "    for item in movie_2[\"certification\"]:\n",
    "        if item[\"country_code\"] == \"US\":\n",
    "            MPAA_list += item[\"certificate\"] + \",\"\n",
    "    for item in movie[\"genre\"]:\n",
    "        genres_list += item + \",\"        \n",
    "        \n",
    "    genres.append({\"name\": movie_name,\n",
    "                   \"genre\":  genres_list,\n",
    "                   \"MPAA_rating\": MPAA_list})\n",
    "    return genres\n",
    "\n",
    "\n",
    "\n",
    "get_genres(\"Law & Order: Special Victims Unit\")\n",
    "   \n",
    "\n",
    "      \n",
    "    # printing it\n"
   ]
  },
  {
   "cell_type": "markdown",
   "metadata": {},
   "source": [
    "movie = ia.get_movie(\"1640718\", info='parents_guide')\n",
    "print(movie['certificate'])\n",
    "for "
   ]
  },
  {
   "cell_type": "code",
   "execution_count": 45,
   "metadata": {},
   "outputs": [
    {
     "ename": "NameError",
     "evalue": "name 'movie_2' is not defined",
     "output_type": "error",
     "traceback": [
      "\u001b[1;31m---------------------------------------------------------------------------\u001b[0m",
      "\u001b[1;31mNameError\u001b[0m                                 Traceback (most recent call last)",
      "\u001b[1;32mc:\\Users\\Systeembeheer\\OneDrive - Tilburg University\\Documenten\\Master\\Marketing Analytics\\Thesis\\API imdb.ipynb Cell 6\u001b[0m in \u001b[0;36m<cell line: 1>\u001b[1;34m()\u001b[0m\n\u001b[1;32m----> <a href='vscode-notebook-cell:/c%3A/Users/Systeembeheer/OneDrive%20-%20Tilburg%20University/Documenten/Master/Marketing%20Analytics/Thesis/API%20imdb.ipynb#X12sZmlsZQ%3D%3D?line=0'>1</a>\u001b[0m \u001b[39mfor\u001b[39;00m item \u001b[39min\u001b[39;00m movie_2[\u001b[39m\"\u001b[39m\u001b[39mcertification\u001b[39m\u001b[39m\"\u001b[39m]:\n\u001b[0;32m      <a href='vscode-notebook-cell:/c%3A/Users/Systeembeheer/OneDrive%20-%20Tilburg%20University/Documenten/Master/Marketing%20Analytics/Thesis/API%20imdb.ipynb#X12sZmlsZQ%3D%3D?line=1'>2</a>\u001b[0m     \u001b[39mprint\u001b[39m(item)\n",
      "\u001b[1;31mNameError\u001b[0m: name 'movie_2' is not defined"
     ]
    }
   ],
   "source": [
    "for item in movie_2[\"certification\"]:\n",
    "    print(item)"
   ]
  },
  {
   "cell_type": "code",
   "execution_count": 47,
   "metadata": {},
   "outputs": [
    {
     "name": "stdout",
     "output_type": "stream",
     "text": [
      "\n",
      "{'country_code': 'CA', 'country': 'Canada', 'certificate': 'G', 'note': '(Alberta/Quebec/Nova Scotia)', 'full': 'Canada:G'}\n",
      "{'country_code': 'CA', 'country': 'Canada', 'certificate': 'PG', 'note': '(Manitoba/Ontario)', 'full': 'Canada:PG'}\n",
      "{'country_code': 'FR', 'country': 'France', 'certificate': 'Tous publics', 'note': '', 'full': 'France:Tous publics'}\n",
      "{'country_code': 'MX', 'country': 'Mexico', 'certificate': 'A', 'note': '', 'full': 'Mexico:A'}\n",
      "{'country_code': 'PT', 'country': 'Portugal', 'certificate': 'M/6', 'note': '', 'full': 'Portugal:M/6'}\n",
      "{'country_code': 'SG', 'country': 'Singapore', 'certificate': 'PG13', 'note': '', 'full': 'Singapore:PG13'}\n",
      "{'country_code': 'KR', 'country': 'South Korea', 'certificate': 'All', 'note': '(2015)', 'full': 'South Korea:All'}\n",
      "{'country_code': 'SE', 'country': 'Sweden', 'certificate': '7', 'note': '', 'full': 'Sweden:7'}\n",
      "{'country_code': 'CH', 'country': 'Switzerland', 'certificate': '6', 'note': '', 'full': 'Switzerland:6'}\n",
      "{'country_code': 'US', 'country': 'United States', 'certificate': 'PG', 'note': '(certificate #49868)', 'full': 'United States:PG'}\n"
     ]
    }
   ],
   "source": [
    "movie = ia.get_movie(\"1640718\", info='parents_guide')\n",
    "print(movie)\n",
    "for item in movie[\"certification\"]:\n",
    "    print(item)"
   ]
  },
  {
   "cell_type": "code",
   "execution_count": null,
   "metadata": {},
   "outputs": [],
   "source": []
  }
 ],
 "metadata": {
  "kernelspec": {
   "display_name": "base",
   "language": "python",
   "name": "python3"
  },
  "language_info": {
   "codemirror_mode": {
    "name": "ipython",
    "version": 3
   },
   "file_extension": ".py",
   "mimetype": "text/x-python",
   "name": "python",
   "nbconvert_exporter": "python",
   "pygments_lexer": "ipython3",
   "version": "3.9.12"
  },
  "orig_nbformat": 4
 },
 "nbformat": 4,
 "nbformat_minor": 2
}
